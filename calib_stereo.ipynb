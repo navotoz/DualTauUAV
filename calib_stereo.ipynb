{
 "cells": [
  {
   "cell_type": "code",
   "execution_count": null,
   "metadata": {},
   "outputs": [],
   "source": [
    "%load_ext autoreload\n",
    "%autoreload 2\n",
    "\n",
    "from pathlib import Path\n",
    "import numpy as np\n",
    "import matplotlib.pyplot as plt\n",
    "from tqdm import tqdm\n",
    "from functools import partial\n",
    "from optim_correspondance import (mp_optimize_homography, fix_timing_between_left_and_right,\n",
    "                                  load_src_and_dest, save_each_frame_to_separate_file)\n",
    "from multiprocessing import Pool, cpu_count\n",
    "\n",
    "path_to_files = Path('rawData') / 'calib'\n",
    "src, dest = load_src_and_dest(path_to_files=path_to_files)\n",
    "\n",
    "######################\n",
    "\n",
    "MAX_TIME_DIFF = 0.00015  # seconds\n",
    "src, dest = fix_timing_between_left_and_right(src=src, dest=dest,\n",
    "                                              max_time_diff=MAX_TIME_DIFF)"
   ]
  },
  {
   "cell_type": "code",
   "execution_count": null,
   "metadata": {},
   "outputs": [],
   "source": [
    "save_each_frame_to_separate_file(src=src, dest=dest, path_to_files=path_to_files)"
   ]
  },
  {
   "attachments": {},
   "cell_type": "markdown",
   "metadata": {},
   "source": [
    "# Optimize the homography"
   ]
  },
  {
   "cell_type": "code",
   "execution_count": null,
   "metadata": {},
   "outputs": [],
   "source": [
    "DISTANCE_FROM_FRAME_EDGES = 15\n",
    "LOSS_THRESHOLD_GRAY_LEVELS = 70\n",
    "\n",
    "list_of_files = list(path_to_files.glob('src_*.npy'))\n",
    "list_of_files.sort(key=lambda x: int(x.stem.split('src_')[1]))\n",
    "\n",
    "# Remove all points files\n",
    "for path in tqdm(path_to_files.glob('points_*.csv'), desc='Remove all points files'):\n",
    "    path.unlink()\n",
    "for path in tqdm(path_to_files.glob('M_*.npy'), desc='Remove all homography files'):\n",
    "    path.unlink()\n",
    "\n",
    "optimizer = partial(mp_optimize_homography, distance_from_frame_edges=DISTANCE_FROM_FRAME_EDGES,\n",
    "                    loss_threshold=LOSS_THRESHOLD_GRAY_LEVELS, path_to_files=path_to_files,\n",
    "                    verbose=True)\n",
    "\n",
    "# List of files -> list of indices\n",
    "list_of_indices = list(map(lambda x: int(x.stem.split('src_')[1]), list_of_files))\n",
    "\n",
    "# Optimize points\n",
    "with Pool(cpu_count()) as pool:\n",
    "    ret_vals = list(tqdm(pool.imap(optimizer, list_of_indices), total=len(list_of_indices), desc='Optimizing points'))\n",
    "ret_vals = filter(lambda x: x is not None, ret_vals)\n",
    "ret_vals = list(filter(lambda x: x <= LOSS_THRESHOLD_GRAY_LEVELS, ret_vals))\n",
    "print(f'Number of frames with loss bellow threshold: {len(ret_vals)}')"
   ]
  },
  {
   "cell_type": "code",
   "execution_count": null,
   "metadata": {},
   "outputs": [],
   "source": []
  }
 ],
 "metadata": {
  "kernelspec": {
   "display_name": "venv",
   "language": "python",
   "name": "python3"
  },
  "language_info": {
   "codemirror_mode": {
    "name": "ipython",
    "version": 3
   },
   "file_extension": ".py",
   "mimetype": "text/x-python",
   "name": "python",
   "nbconvert_exporter": "python",
   "pygments_lexer": "ipython3",
   "version": "3.10.6"
  },
  "orig_nbformat": 4
 },
 "nbformat": 4,
 "nbformat_minor": 2
}
