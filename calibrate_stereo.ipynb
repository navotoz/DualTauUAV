{
 "cells": [
  {
   "cell_type": "code",
   "execution_count": null,
   "metadata": {},
   "outputs": [],
   "source": [
    "from pathlib import Path\n",
    "import numpy as np\n",
    "import matplotlib.pyplot as plt\n",
    "from tqdm import tqdm\n",
    "from functools import partial\n",
    "from optim_correspondance import mp_optimize_homography\n",
    "from multiprocessing import Pool, cpu_count\n",
    "\n",
    "from utils.tools import load_files_from_dir\n",
    "\n",
    "path_to_files = Path('rawData') / 'calib'\n",
    "\n",
    "left = load_files_from_dir(path_to_files / 'pan')\n",
    "right = load_files_from_dir(path_to_files / 'mono')\n",
    "\n",
    "print(f\"List of keys in dict: {list(right.keys())}\\n\")\n",
    "print(f\"Number of left frames: {len(left['time_ns']):,}\")\n",
    "print(f\"Number of right frames: {len(right['time_ns']):,}\")"
   ]
  },
  {
   "attachments": {},
   "cell_type": "markdown",
   "metadata": {},
   "source": [
    "Fix timing between stereo cameras"
   ]
  },
  {
   "cell_type": "code",
   "execution_count": null,
   "metadata": {},
   "outputs": [],
   "source": [
    "MAX_TIME_DIFF = 0.001  # seconds\n",
    "\n",
    "def _get_diff(left, right):\n",
    "    if len(left['time_ns']) > len(right['time_ns']):\n",
    "        return np.abs(left['time_ns'][:, None] - right['time_ns'][None, :])\n",
    "    else:\n",
    "        return np.abs(left['time_ns'][None, :] - right['time_ns'][:, None])\n",
    "diff_before = _get_diff(left, right).argmin(0)\n",
    "\n",
    "# Remove frames that are not in both cameras\n",
    "while abs(len(left['time_ns']) - len(right['time_ns'])) > 1:\n",
    "    # Find the difference between the timestamps of the two cameras\n",
    "    diff = _get_diff(left, right)\n",
    "\n",
    "    # Find the indices in the longer array that have no counterpart in the shorter array\n",
    "    diff_values_of_longer_dict = np.min(diff, axis=1)\n",
    "    mask_longer_dict = diff_values_of_longer_dict <= (MAX_TIME_DIFF * 1e9)\n",
    "    indices_of_longer_dict = np.where(mask_longer_dict)[0]\n",
    "    if len(left['time_ns']) > len(right['time_ns']):\n",
    "        left = {k: v[indices_of_longer_dict] for k, v in left.items()}\n",
    "    else:\n",
    "        right = {k: v[indices_of_longer_dict] for k, v in right.items()}\n",
    "print(f\"Length of left: {len(left['time_ns']):,}\")\n",
    "print(f\"Length of right: {len(right['time_ns']):,}\")\n",
    "\n",
    "# Sort both arrays to have the closest timestamps have same index\n",
    "diff = np.argmin(np.abs(left['time_ns'][:, None] - right['time_ns'][None, :]), axis=0)\n",
    "left = {k: v[diff] for k, v in left.items()}\n",
    "\n",
    "diff = np.abs(left['time_ns'] - right['time_ns'])*1e-9\n",
    "print(f\"Max time difference between frames: {np.max(diff):.2g} seconds\")\n",
    "print(f\"Min time difference between frames: {np.min(diff):.2g} seconds\")\n",
    "\n",
    "plt.figure()\n",
    "plt.scatter(range(len(left['time_ns'])), left['time_ns'] * 1e-9, label='Left', s=2)\n",
    "plt.scatter(range(len(right['time_ns'])), right['time_ns'] * 1e-9, label='Right', s=2)\n",
    "plt.title('Timestamps of frames')\n",
    "plt.legend()\n",
    "plt.grid()\n",
    "plt.show()\n",
    "\n",
    "plt.figure()\n",
    "plt.scatter(range(len(diff)), diff, c='r', s=2)\n",
    "plt.plot(np.ones_like(left['time_ns'])*np.mean(diff))\n",
    "plt.grid()\n",
    "plt.title('Time difference between frames')\n",
    "plt.ylabel('Time difference [s]')\n",
    "plt.show()\n",
    "\n"
   ]
  },
  {
   "attachments": {},
   "cell_type": "markdown",
   "metadata": {},
   "source": [
    "# Save each frame in a separate file"
   ]
  },
  {
   "cell_type": "code",
   "execution_count": null,
   "metadata": {},
   "outputs": [],
   "source": [
    "# Delete old files\n",
    "for p in path_to_files.glob('*.npy'):\n",
    "    p.unlink()\n",
    "\n",
    "for idx, frame in enumerate(left['frames']):\n",
    "    np.save(path_to_files / f'src_{idx}.npy', frame)\n",
    "for idx, frame in enumerate(right['frames']):\n",
    "    np.save(path_to_files / f'dest_{idx}.npy', frame)\n",
    "print(f\"Saved {len(left['frames'])} frames to {path_to_files}\")"
   ]
  },
  {
   "attachments": {},
   "cell_type": "markdown",
   "metadata": {},
   "source": [
    "# Optimize the homography"
   ]
  },
  {
   "cell_type": "code",
   "execution_count": null,
   "metadata": {},
   "outputs": [],
   "source": [
    "DISTANCE_FROM_FRAME_EDGES = 10\n",
    "LOSS_THRESHOLD_GRAY_LEVELS = 50\n",
    "\n",
    "list_of_files = list(path_to_files.glob('src_*.npy'))\n",
    "list_of_files.sort(key=lambda x: int(x.stem.split('src_')[1]))\n",
    "\n",
    "# Remove all points files\n",
    "for path in tqdm(path_to_files.glob('points_*.csv'), desc='Remove all points files'):\n",
    "    path.unlink()\n",
    "for path in tqdm(path_to_files.glob('M_*.npy'), desc='Remove all homography files'):\n",
    "    path.unlink()\n",
    "\n",
    "optimizer = partial(mp_optimize_homography, distance_from_frame_edges=DISTANCE_FROM_FRAME_EDGES,\n",
    "                    loss_threshold=LOSS_THRESHOLD_GRAY_LEVELS, path_to_files=path_to_files)\n",
    "\n",
    "# List of files -> list of indices\n",
    "list_of_indices = list(map(lambda x: int(x.stem.split('src_')[1]), list_of_files))\n",
    "\n",
    "# Optimize points\n",
    "with Pool(cpu_count()) as pool:\n",
    "    ret_vals = list(tqdm(pool.imap(optimizer, list_of_indices), total=len(list_of_indices), desc='Optimizing points'))\n",
    "ret_vals = filter(lambda x: x is not None, ret_vals)\n",
    "ret_vals = list(filter(lambda x: x <= LOSS_THRESHOLD_GRAY_LEVELS, ret_vals))\n",
    "print(f'Number of frames with loss bellow threshold: {len(ret_vals)}')"
   ]
  },
  {
   "cell_type": "code",
   "execution_count": null,
   "metadata": {},
   "outputs": [],
   "source": []
  }
 ],
 "metadata": {
  "kernelspec": {
   "display_name": "venv",
   "language": "python",
   "name": "python3"
  },
  "language_info": {
   "codemirror_mode": {
    "name": "ipython",
    "version": 3
   },
   "file_extension": ".py",
   "mimetype": "text/x-python",
   "name": "python",
   "nbconvert_exporter": "python",
   "pygments_lexer": "ipython3",
   "version": "3.10.6"
  },
  "orig_nbformat": 4
 },
 "nbformat": 4,
 "nbformat_minor": 2
}
