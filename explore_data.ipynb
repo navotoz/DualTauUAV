{
 "cells": [
  {
   "cell_type": "code",
   "execution_count": null,
   "metadata": {},
   "outputs": [],
   "source": [
    "from pathlib import Path\n",
    "import numpy as np\n",
    "import matplotlib.pyplot as plt\n",
    "from tqdm import tqdm\n",
    "import pandas as pd\n",
    "\n",
    "\n",
    "def load_files_from_dir(path):\n",
    "    data = {}\n",
    "    list_files = list(path.glob('*.npz'))\n",
    "    for p in tqdm(list_files):\n",
    "        try:\n",
    "            d = np.load(p)\n",
    "        except:\n",
    "            continue\n",
    "        for k, v in d.items():\n",
    "            data.setdefault(k, []).extend( v)\n",
    "    if not data:\n",
    "        try:\n",
    "            data = np.load(path.with_suffix('.npz'))\n",
    "        except:\n",
    "            raise FileNotFoundError(f'No files found in {path}')\n",
    "    indices = np.argsort(data['time_ns'])\n",
    "    data = {k:np.stack(v)[indices] for k, v in data.items()}\n",
    "    return data\n",
    "\n",
    "\n",
    "path_to_files = Path('/mnt/e/Downloads/meas/B/')"
   ]
  },
  {
   "attachments": {},
   "cell_type": "markdown",
   "metadata": {},
   "source": [
    "Load data"
   ]
  },
  {
   "cell_type": "code",
   "execution_count": null,
   "metadata": {},
   "outputs": [],
   "source": [
    "pan = load_files_from_dir(path_to_files / 'pan')\n",
    "mono = load_files_from_dir(path_to_files / 'mono')\n",
    "list(mono.keys())"
   ]
  },
  {
   "cell_type": "code",
   "execution_count": null,
   "metadata": {},
   "outputs": [],
   "source": [
    "idx = np.searchsorted(pan['time_ns'], mono['time_ns'].max())\n",
    "# pan = {k:v[:idx] for k, v in pan.items()}\n",
    "# np.savez(path_to_files / 'pan_.npz', **pan)\n",
    "\n",
    "idx = np.searchsorted(mono['time_ns'], pan['time_ns'].min())\n",
    "print(f'Number of frames in pan data: {len(pan[\"time_ns\"])}')\n",
    "print(f'Number of frames in mono data: {len(mono[\"time_ns\"])}')\n",
    "print(f'The idx in pan with the highest mono time: {idx}')\n",
    "# mono = {k:v[idx:] for k, v in mono.items()}\n",
    "# np.savez(path_to_files / 'mono_.npz', **mono)\n",
    "\n"
   ]
  },
  {
   "attachments": {},
   "cell_type": "markdown",
   "metadata": {},
   "source": [
    "Find the closest neighbors between pan and mono (in terms of time_ns)"
   ]
  },
  {
   "cell_type": "code",
   "execution_count": null,
   "metadata": {},
   "outputs": [],
   "source": [
    "# # Find the first common index\n",
    "# if len(pan['time_ns']) < len(mono['time_ns']):\n",
    "#     idx = np.searchsorted(mono['time_ns'], pan['time_ns'][0])\n",
    "#     for k in mono.keys():\n",
    "#         mono[k] = mono[k][idx:]\n",
    "# else:\n",
    "#     idx = np.searchsorted(pan['time_ns'], mono['time_ns'][0])\n",
    "#     for k in pan.keys():\n",
    "#         pan[k] = pan[k][idx:]\n",
    "\n",
    "indices = np.array(sorted(set(np.concatenate([mono['time_ns'] , pan['time_ns']]))))\n",
    "indices_mono = np.searchsorted(indices, mono['time_ns'])\n",
    "indices_pan = np.searchsorted(indices, pan['time_ns'])\n",
    "\n",
    "\n",
    "plt.figure()\n",
    "plt.scatter( indices_pan, pan['time_ns'], label='pan', marker='x', s=0.5)\n",
    "plt.scatter( indices_mono,  mono['time_ns'], label='mono', marker='o', s=0.5)\n",
    "plt.grid()\n",
    "plt.legend()\n",
    "plt.ylabel('Time [s]')\n",
    "plt.show()\n"
   ]
  },
  {
   "cell_type": "code",
   "execution_count": null,
   "metadata": {},
   "outputs": [],
   "source": [
    "diff = np.abs(pan['time_ns'][:, None] - mono['time_ns'][None, :])\n",
    "# diff = np.argmin(diff, axis=0)\n",
    "# diff\n",
    "# plt.plot(diff)\n",
    "\n",
    "\n",
    "\n",
    "\n",
    "\n",
    "# diff = np.min(diff, axis=0)\n",
    "# diff = diff / 1e9\n",
    "# # diff = [(pan['time_ns'][p] - q) / 1e9 for p, q in zip(diff, mono['time_ns'])]\n",
    "# plt.plot(diff[diff < 0.1])\n",
    "\n",
    "# # [p for p in (diff / 1e9)]\n",
    "# # \n",
    "# # for i in range(len(pan['time_ns'])):\n",
    "# #     dict_of_connections.setdefault(pan['time_ns'][i], []).append(mono['time_ns'][i])"
   ]
  },
  {
   "attachments": {},
   "cell_type": "markdown",
   "metadata": {},
   "source": [
    "Build a dict with all the data sorted by the time_ns indices"
   ]
  },
  {
   "cell_type": "code",
   "execution_count": null,
   "metadata": {},
   "outputs": [],
   "source": [
    "rate_mono = len(mono['time_ns']) / ((mono['time_ns'][-1] - mono['time_ns'][0]) / 1e9)\n",
    "rate_pan = len(pan['time_ns']) / ((pan['time_ns'][-1] - pan['time_ns'][0]) / 1e9)\n",
    "print(f'rate_mono: {rate_mono}')\n",
    "print(f'rate_pan: {rate_pan}')"
   ]
  },
  {
   "cell_type": "code",
   "execution_count": null,
   "metadata": {},
   "outputs": [],
   "source": [
    "# # plot the first frame in each file side by side\n",
    "# plt.figure()\n",
    "# plt.subplot(121)\n",
    "# plt.imshow(mono['frames'][0])\n",
    "# plt.title('Mono')\n",
    "# plt.subplot(122)\n",
    "# plt.imshow(pan['frames'][0])\n",
    "# plt.title('Pan')\n",
    "# plt.show()\n",
    "\n",
    "# Plot the first frame in each file on top of each other\n",
    "CROP_H , CROP_W = 100, 120\n",
    "plt.figure(figsize=(20, 12))\n",
    "plt.imshow(np.concatenate([pan['frames'][0][CROP_H:-CROP_H, CROP_W:-CROP_W], \n",
    "                           mono['frames'][0][CROP_H:-CROP_H, CROP_W:-CROP_W]], axis=1))\n",
    "plt.show()\n",
    "\n"
   ]
  },
  {
   "attachments": {},
   "cell_type": "markdown",
   "metadata": {},
   "source": [
    "Plot the FPAs and the update times of the FPAs"
   ]
  },
  {
   "cell_type": "code",
   "execution_count": null,
   "metadata": {},
   "outputs": [],
   "source": [
    "indices_pan = (pan['time_ns'] - pan['time_ns'][0]) / 1e9\n",
    "mark_update_pan_times = np.diff(pan['fpa_update_time'], prepend=pan['fpa_update_time'][0]) != 0\n",
    "indices_marks_pan = indices_pan[mark_update_pan_times]\n",
    "mark_update_pan_times = pan['fpa'][mark_update_pan_times]\n",
    "indices_mono = (mono['time_ns'] - mono['time_ns'][0]) / 1e9\n",
    "mark_update_mono_times = np.diff(mono['fpa_update_time'], prepend=mono['fpa_update_time'][0]) != 0\n",
    "indices_marks_mono = indices_mono[mark_update_mono_times]\n",
    "mark_update_mono_times = mono['fpa'][mark_update_mono_times]\n",
    "\n",
    "plt.figure()\n",
    "plt.plot(indices_pan, pan['fpa'], label='pan', c='r')\n",
    "plt.plot(indices_mono, mono['fpa'], label='mono', c='b')\n",
    "plt.scatter(indices_marks_pan, mark_update_pan_times, c='r', label='pan updates')\n",
    "plt.scatter(indices_marks_mono, mark_update_mono_times, c='b', label='mono updates')\n",
    "plt.legend()\n",
    "plt.grid()\n",
    "plt.show()\n"
   ]
  },
  {
   "attachments": {},
   "cell_type": "markdown",
   "metadata": {},
   "source": [
    "To Dataframe"
   ]
  },
  {
   "cell_type": "code",
   "execution_count": null,
   "metadata": {},
   "outputs": [],
   "source": [
    "images = np.split(pan['frames'], indices_or_sections=len(pan['frames']))\n",
    "pd.DataFrame(data=[p.squeeze() for p in images], index=pan['time_ns']).head()\n",
    "# df_pan = pd.DataFrame(pan['fpa'], index=pan['time_ns']).sort_index()\n",
    "# df_mono = pd.DataFrame(mono['fpa'], index=mono['time_ns']).sort_index()"
   ]
  },
  {
   "attachments": {},
   "cell_type": "markdown",
   "metadata": {},
   "source": []
  },
  {
   "cell_type": "code",
   "execution_count": null,
   "metadata": {},
   "outputs": [],
   "source": []
  },
  {
   "attachments": {},
   "cell_type": "markdown",
   "metadata": {},
   "source": []
  },
  {
   "cell_type": "code",
   "execution_count": null,
   "metadata": {},
   "outputs": [],
   "source": [
    "df_mono.head()"
   ]
  },
  {
   "cell_type": "code",
   "execution_count": null,
   "metadata": {},
   "outputs": [],
   "source": []
  }
 ],
 "metadata": {
  "kernelspec": {
   "display_name": "venv",
   "language": "python",
   "name": "python3"
  },
  "language_info": {
   "codemirror_mode": {
    "name": "ipython",
    "version": 3
   },
   "file_extension": ".py",
   "mimetype": "text/x-python",
   "name": "python",
   "nbconvert_exporter": "python",
   "pygments_lexer": "ipython3",
   "version": "3.10.6"
  },
  "orig_nbformat": 4
 },
 "nbformat": 4,
 "nbformat_minor": 2
}
