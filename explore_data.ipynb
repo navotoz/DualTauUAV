{
 "cells": [
  {
   "cell_type": "code",
   "execution_count": null,
   "metadata": {},
   "outputs": [],
   "source": [
    "from pathlib import Path\n",
    "import numpy as np\n",
    "import matplotlib.pyplot as plt\n",
    "from tqdm import tqdm\n",
    "import pandas as pd\n",
    "\n",
    "\n",
    "def load_files_from_dir(path):\n",
    "    data = {}\n",
    "    list_files = list(path.glob('*.npz'))\n",
    "    for p in tqdm(list_files):\n",
    "        d = np.load(p)\n",
    "        for k, v in d.items():\n",
    "            data.setdefault(k, []).extend( v)\n",
    "    indices = np.argsort(data['time_ns'])\n",
    "    data = {k:np.stack(v)[indices] for k, v in data.items()}\n",
    "    return data\n",
    "\n",
    "\n",
    "path_to_files = Path('/mnt/e/Downloads/meas/fa4b8a96b88f4cda8dbccd29fcab0d7d/')"
   ]
  },
  {
   "cell_type": "markdown",
   "metadata": {},
   "source": [
    "Load data"
   ]
  },
  {
   "cell_type": "code",
   "execution_count": null,
   "metadata": {},
   "outputs": [],
   "source": [
    "pan = load_files_from_dir(path_to_files / 'pan')\n",
    "mono = load_files_from_dir(path_to_files / 'mono')"
   ]
  },
  {
   "attachments": {},
   "cell_type": "markdown",
   "metadata": {},
   "source": [
    "Find the closest neighbors between pan and mono (in terms of time_ns)"
   ]
  },
  {
   "cell_type": "code",
   "execution_count": null,
   "metadata": {},
   "outputs": [],
   "source": [
    "indices = sorted(np.concatenate([pan['time_ns'], mono['time_ns']]))\n",
    "plt.figure()\n",
    "plt.plot( pan['time_ns'], label='pan')\n",
    "plt.plot( mono['time_ns'], label='mono')\n",
    "plt.legend()\n",
    "plt.show()\n"
   ]
  },
  {
   "cell_type": "code",
   "execution_count": null,
   "metadata": {},
   "outputs": [],
   "source": [
    "diff = np.abs(pan['time_ns'][:, None] - mono['time_ns'][None, :])\n",
    "diff = np.min(diff, axis=0)\n",
    "# diff = [(pan['time_ns'][p] - q) / 1e9 for p, q in zip(diff, mono['time_ns'])]\n",
    "# plt.plot(diff[0])\n",
    "\n",
    "[p for p in (diff / 1e9)]\n",
    "# \n",
    "# for i in range(len(pan['time_ns'])):\n",
    "#     dict_of_connections.setdefault(pan['time_ns'][i], []).append(mono['time_ns'][i])"
   ]
  },
  {
   "attachments": {},
   "cell_type": "markdown",
   "metadata": {},
   "source": [
    "Build a dict with all the data sorted by the time_ns indices"
   ]
  },
  {
   "cell_type": "code",
   "execution_count": null,
   "metadata": {},
   "outputs": [],
   "source": []
  },
  {
   "attachments": {},
   "cell_type": "markdown",
   "metadata": {},
   "source": [
    "To Dataframe"
   ]
  },
  {
   "cell_type": "code",
   "execution_count": null,
   "metadata": {},
   "outputs": [],
   "source": []
  },
  {
   "cell_type": "code",
   "execution_count": null,
   "metadata": {},
   "outputs": [],
   "source": [
    "images = np.split(pan['frames'], indices_or_sections=len(pan['frames']))\n",
    "pd.DataFrame(data=[p.squeeze() for p in images], index=pan['time_ns']).head()\n",
    "# df_pan = pd.DataFrame(pan['fpa'], index=pan['time_ns']).sort_index()\n",
    "# df_mono = pd.DataFrame(mono['fpa'], index=mono['time_ns']).sort_index()"
   ]
  },
  {
   "cell_type": "markdown",
   "metadata": {},
   "source": []
  },
  {
   "cell_type": "code",
   "execution_count": null,
   "metadata": {},
   "outputs": [],
   "source": []
  },
  {
   "cell_type": "markdown",
   "metadata": {},
   "source": []
  },
  {
   "cell_type": "code",
   "execution_count": null,
   "metadata": {},
   "outputs": [],
   "source": [
    "df_mono.head()"
   ]
  },
  {
   "cell_type": "code",
   "execution_count": null,
   "metadata": {},
   "outputs": [],
   "source": []
  }
 ],
 "metadata": {
  "kernelspec": {
   "display_name": "venv",
   "language": "python",
   "name": "python3"
  },
  "language_info": {
   "codemirror_mode": {
    "name": "ipython",
    "version": 3
   },
   "file_extension": ".py",
   "mimetype": "text/x-python",
   "name": "python",
   "nbconvert_exporter": "python",
   "pygments_lexer": "ipython3",
   "version": "3.10.6"
  },
  "orig_nbformat": 4
 },
 "nbformat": 4,
 "nbformat_minor": 2
}
