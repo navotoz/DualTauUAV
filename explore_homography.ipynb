{
 "cells": [
  {
   "cell_type": "code",
   "execution_count": null,
   "metadata": {},
   "outputs": [],
   "source": [
    "from pathlib import Path\n",
    "import numpy as np\n",
    "import matplotlib.pyplot as plt\n",
    "import cv2\n",
    "from mpl_toolkits.axes_grid1.axes_divider import make_axes_locatable\n",
    "import torch\n",
    "from tqdm import tqdm\n",
    "from kornia.geometry import warp_perspective\n",
    "\n",
    "\n",
    "path_to_files = Path('rawData')\n",
    "h = np.zeros((len(list(path_to_files.glob('M_*.npy'))), 3, 3))\n",
    "dynamic, static = [], []\n",
    "for i, path in enumerate(path_to_files.glob('M_*.npy')):\n",
    "    idx = int(path.stem.split('M_')[-1])\n",
    "    h[i] = np.load(path)\n",
    "    dynamic.append(np.load(path_to_files / f'left_{idx}.npy'))\n",
    "    static.append(np.load(path_to_files / f'right_{idx}.npy'))\n",
    "dynamic, static = np.array(dynamic), np.array(static)\n",
    "\n",
    "print(f\"Loaded {len(h)} homographies\")"
   ]
  },
  {
   "cell_type": "code",
   "execution_count": null,
   "metadata": {},
   "outputs": [],
   "source": [
    "# mask = np.abs(h[:, 2, 0]) < 0.25e-5\n",
    "# h = h[mask]\n",
    "# print(f\"Removed {len(mask) - len(h)} homography matrices\")\n",
    "# print(f\"Remaining {len(h)} homography matrices\")\n",
    "\n",
    "\n",
    "for i, j in np.ndindex(3, 3):\n",
    "    d = h[:, i, j]\n",
    "    std = np.std(d)\n",
    "    d = d[np.abs(d - np.mean(d)) < 1 * std]\n",
    "    plt.figure()\n",
    "    plt.scatter(range(len(d)), d, label='y', s=2)\n",
    "    plt.plot(np.mean(d) * np.ones_like(d), label='mean', c='r', linewidth=1)\n",
    "    # plt.plot(np.mean(d) * np.ones_like(d)-1,  '--', c='black', linewidth=1)\n",
    "    # plt.plot(np.mean(d) * np.ones_like(d])+1,  '--', c='black', linewidth=1)\n",
    "    # plt.yticks(np.arange(np.floor(d.min()), np.ceil(d.max()), 1))\n",
    "    plt.title(f'Homography {i}, {j}, mean: {np.mean(d):.1e}, std: {std:.1e}')\n",
    "    plt.grid()\n",
    "    plt.show()\n",
    "    plt.close()"
   ]
  },
  {
   "attachments": {},
   "cell_type": "markdown",
   "metadata": {},
   "source": [
    "# Build and save the mean homography matrix"
   ]
  },
  {
   "cell_type": "code",
   "execution_count": null,
   "metadata": {},
   "outputs": [],
   "source": [
    "h = np.eye(3, dtype=float)\n",
    "\n",
    "h[2, 2] = 1\n",
    "h[2, 1] = -1e-6\n",
    "h[2, 0] = 1e-6\n",
    "\n",
    "h[1, 2] = -0.78\n",
    "h[1, 1] = 0.999\n",
    "h[1, 0] = -0.015\n",
    "\n",
    "h[0, 2] = -5.2\n",
    "h[0, 1] = 0.017\n",
    "h[0, 0] = 0.9998\n",
    "\n",
    "h"
   ]
  },
  {
   "attachments": {},
   "cell_type": "markdown",
   "metadata": {},
   "source": [
    "# Examples of results with the mean homography"
   ]
  },
  {
   "cell_type": "code",
   "execution_count": null,
   "metadata": {},
   "outputs": [],
   "source": [
    "for idx, path in enumerate(path_to_files.glob('M_*.npy')):\n",
    "    idx_of_frame = int(path.stem.split('_')[-1])\n",
    "    warped = cv2.warpPerspective(dynamic[idx], h, list(reversed(static.shape[-2:])))\n",
    "    mask = cv2.warpPerspective(\n",
    "        np.ones_like(dynamic[idx]),\n",
    "        h, list(reversed(static[idx].shape[-2:])),\n",
    "        flags=cv2.INTER_NEAREST, borderMode=cv2.BORDER_CONSTANT, borderValue=0).astype(bool)\n",
    "\n",
    "    # Erode mask\n",
    "    kernel = np.ones((3, 3), np.uint8)\n",
    "    mask = cv2.erode(mask.astype(np.uint8), kernel, iterations=1).astype(bool)\n",
    "\n",
    "    vmin = warped[mask].min()\n",
    "    vmax = warped[mask].max()\n",
    "\n",
    "    # Plot the dynamic, static and warped images\n",
    "    plt.figure(figsize=(20, 5))\n",
    "    plt.subplot(1, 4, 1)\n",
    "    plt.imshow(dynamic[idx])\n",
    "    plt.title('Dynamic')\n",
    "    plt.subplot(1, 4, 2)\n",
    "    plt.imshow(static[idx])\n",
    "    plt.title('Static')\n",
    "    plt.subplot(1, 4, 3)\n",
    "    plt.imshow(warped, vmin=vmin, vmax=vmax)\n",
    "    plt.title('Warped')\n",
    "    ax = plt.subplot(1, 4, 4)\n",
    "    diff = np.abs(warped.astype(float) - static[idx].astype(float))\n",
    "    diff[~mask] = np.nan\n",
    "\n",
    "    divider = make_axes_locatable(ax)\n",
    "    cax = divider.append_axes(\"right\", size=\"5%\", pad=0.05)\n",
    "    plt.colorbar(ax.imshow(diff, cmap='bwr'), cax=cax)\n",
    "    ax.set_title(f'Diff, avg err: {diff[mask].mean():.2g}GL')\n",
    "\n",
    "    plt.title('Difference')\n",
    "    plt.show()\n",
    "    plt.close()\n",
    "\n",
    "    # if idx > 20:\n",
    "    #     break"
   ]
  },
  {
   "attachments": {},
   "cell_type": "markdown",
   "metadata": {},
   "source": [
    "# Optimize the homography matrix with SGD"
   ]
  },
  {
   "cell_type": "code",
   "execution_count": null,
   "metadata": {},
   "outputs": [],
   "source": [
    "DEVICE = 'cuda' if torch.cuda.is_available() else 'cpu'\n",
    "DTYPE = torch.float32\n",
    "\n",
    "dyn = torch.from_numpy(dynamic[:, None].astype(float)).to(DEVICE, DTYPE)\n",
    "stat = torch.from_numpy(static[:, None].astype(float)).to(DEVICE, DTYPE)\n",
    "h_tensor = torch.from_numpy(h)[None,  ...].to(DEVICE, DTYPE)\n",
    "h_tensor.requires_grad_(True)\n",
    "h_orig = h_tensor.clone()\n",
    "\n",
    "optim = torch.optim.AdamW([h_tensor], lr=1e-6)\n",
    "loss_fn = torch.nn.L1Loss()\n",
    "\n",
    "N_EPOCHS = 4000\n",
    "with tqdm(total=N_EPOCHS) as pbar:\n",
    "    for i in range(N_EPOCHS):\n",
    "        warped = warp_perspective(dyn, h_tensor, dsize=stat.shape[-2:], mode='bicubic', align_corners=True)\n",
    "        loss = loss_fn(warped, stat)\n",
    "        pbar.set_postfix_str(f'Loss: {loss.item():.2g}')\n",
    "        optim.zero_grad()\n",
    "        loss.backward()\n",
    "        optim.step()\n",
    "        pbar.update()\n",
    "\n",
    "print(f\"Original homography:\\n{h_orig.detach().cpu().numpy()[0]}\", flush=True)\n",
    "print(f\"Optimized homography:\\n{h_tensor.detach().cpu().numpy()[0]}\", flush=True)"
   ]
  },
  {
   "cell_type": "code",
   "execution_count": null,
   "metadata": {},
   "outputs": [],
   "source": [
    "print(f\"Original homography:\\n{h_orig.detach().cpu().numpy()[0]}\", flush=True)\n",
    "print(f\"Optimized homography:\\n{h_tensor.detach().cpu().numpy()[0]}\", flush=True)"
   ]
  },
  {
   "cell_type": "code",
   "execution_count": null,
   "metadata": {},
   "outputs": [],
   "source": [
    "h_new = h_tensor.detach().cpu().numpy()[0]\n",
    "for idx, path in enumerate(path_to_files.glob('M_*.npy')):\n",
    "    idx_of_frame = int(path.stem.split('_')[-1])\n",
    "    warped = cv2.warpPerspective(dynamic[idx], h, list(reversed(static.shape[-2:])))\n",
    "    mask = warped != 0\n",
    "\n",
    "    # Erode mask\n",
    "    kernel = np.ones((3, 3), np.uint8)\n",
    "    mask = cv2.erode(mask.astype(np.uint8), kernel, iterations=1).astype(bool)\n",
    "\n",
    "    vmin = warped[mask].min()\n",
    "    vmax = warped[mask].max()\n",
    "\n",
    "    # Plot the dynamic, static and warped images\n",
    "    plt.figure(figsize=(20, 5))\n",
    "    plt.subplot(1, 4, 1)\n",
    "    plt.imshow(dynamic[idx])\n",
    "    plt.title('Dynamic')\n",
    "    plt.subplot(1, 4, 2)\n",
    "    plt.imshow(static[idx])\n",
    "    plt.title('Static')\n",
    "    plt.subplot(1, 4, 3)\n",
    "    plt.imshow(warped, vmin=vmin, vmax=vmax)\n",
    "    plt.title('Warped')\n",
    "    ax = plt.subplot(1, 4, 4)\n",
    "    diff = np.abs(warped.astype(float) - static[idx].astype(float))\n",
    "    diff[~mask] = np.nan\n",
    "\n",
    "    divider = make_axes_locatable(ax)\n",
    "    cax = divider.append_axes(\"right\", size=\"5%\", pad=0.05)\n",
    "    plt.colorbar(ax.imshow(diff, cmap='bwr'), cax=cax)\n",
    "    ax.set_title(f'Diff, avg err: {diff[mask].mean():.2g}GL')\n",
    "\n",
    "    plt.title('Difference')\n",
    "    plt.show()\n",
    "    plt.close()\n",
    "\n",
    "    if idx > 3:\n",
    "        break"
   ]
  },
  {
   "cell_type": "code",
   "execution_count": null,
   "metadata": {},
   "outputs": [],
   "source": []
  }
 ],
 "metadata": {
  "kernelspec": {
   "display_name": "venv",
   "language": "python",
   "name": "python3"
  },
  "language_info": {
   "codemirror_mode": {
    "name": "ipython",
    "version": 3
   },
   "file_extension": ".py",
   "mimetype": "text/x-python",
   "name": "python",
   "nbconvert_exporter": "python",
   "pygments_lexer": "ipython3",
   "version": "3.10.6"
  },
  "orig_nbformat": 4
 },
 "nbformat": 4,
 "nbformat_minor": 2
}
