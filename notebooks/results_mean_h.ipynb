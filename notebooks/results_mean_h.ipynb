{
 "cells": [
  {
   "attachments": {},
   "cell_type": "markdown",
   "metadata": {},
   "source": [
    "# Build and save the mean homography matrix"
   ]
  },
  {
   "cell_type": "code",
   "execution_count": null,
   "metadata": {},
   "outputs": [],
   "source": [
    "import numpy as np\n",
    "h = np.eye(3, dtype=float)\n",
    "\n",
    "h[2, 2] = 1\n",
    "h[2, 1] = -1e-6\n",
    "h[2, 0] = 1e-6\n",
    "\n",
    "h[1, 2] = -0.78\n",
    "h[1, 1] = 0.999\n",
    "h[1, 0] = -0.015\n",
    "\n",
    "h[0, 2] = -5.2\n",
    "h[0, 1] = 0.017\n",
    "h[0, 0] = 0.9998\n",
    "\n",
    "h"
   ]
  },
  {
   "cell_type": "markdown",
   "metadata": {},
   "source": [
    "# Save warped results (with mean homography) as .npz file"
   ]
  },
  {
   "cell_type": "code",
   "execution_count": null,
   "metadata": {},
   "outputs": [],
   "source": [
    "from pathlib import Path\n",
    "import numpy as np\n",
    "import matplotlib.pyplot as plt\n",
    "import cv2\n",
    "from mpl_toolkits.axes_grid1.axes_divider import make_axes_locatable\n",
    "import torch\n",
    "from tqdm import tqdm\n",
    "from kornia.geometry import warp_perspective\n",
    "\n",
    "\n",
    "path_to_files = Path('rawData') / 'B'\n",
    "src = np.load(path_to_files / 'src.npz')\n",
    "dest = np.load(path_to_files / 'dest.npz')\n",
    "print(f\"src {list(src.keys())}, length {len(src['frames'])}\")\n",
    "print(f\"dest {list(dest.keys())}, length {len(dest['frames'])}\")\n"
   ]
  },
  {
   "cell_type": "code",
   "execution_count": null,
   "metadata": {},
   "outputs": [],
   "source": [
    "# Warp all src to dest using the mean h\n",
    "path_to_save_warped = path_to_files / 'warped'\n",
    "path_to_save_warped.mkdir(exist_ok=True)\n",
    "(path_to_save_warped / 'pan').mkdir(exist_ok=True)\n",
    "(path_to_save_warped / 'orig').mkdir(exist_ok=True)\n",
    "(path_to_save_warped / 'mono').mkdir(exist_ok=True)\n",
    "indices = np.arange(len(src['frames']))\n",
    "for idx in tqdm(indices):\n",
    "    ret_val = cv2.warpPerspective(src['frames'][idx], np.linalg.inv(h), list(reversed(src['frames'][idx].shape[-2:])))\n",
    "    mask = cv2.warpPerspective(\n",
    "        np.ones_like(src['frames'][idx]),\n",
    "        np.linalg.inv(h), list(reversed(src['frames'][idx].shape[-2:])),\n",
    "        flags=cv2.INTER_NEAREST, borderMode=cv2.BORDER_CONSTANT, borderValue=0).astype(bool)\n",
    "    np.savez(path_to_save_warped / 'pan' / f'{idx}.npz', **{'image': ret_val, 'fpa': src['fpa'][idx], 'mask':mask})\n",
    "    np.savez(path_to_save_warped / 'mono' / f'{idx}.npz', **{'image': dest['frames'][idx], 'fpa': dest['fpa'][idx]})\n",
    "    np.save(path_to_save_warped / 'orig' / f'{idx}.npy', src['frames'][idx])\n"
   ]
  },
  {
   "cell_type": "markdown",
   "metadata": {},
   "source": [
    "Sanity check for saving"
   ]
  },
  {
   "cell_type": "code",
   "execution_count": null,
   "metadata": {},
   "outputs": [],
   "source": [
    "indices = np.arange(len(src['frames']))\n",
    "# np.random.shuffle(indices)\n",
    "n_subplot = 5\n",
    "for idx in indices[:3]:\n",
    "    src_ = np.load(path_to_save_warped / 'pan' / f'{idx}.npz')['image'].astype(float)\n",
    "    orig_ = np.load(path_to_save_warped / 'orig' / f'{idx}.npy')\n",
    "    mask_ = np.load(path_to_save_warped / 'pan' / f'{idx}.npz')['mask'].astype(bool)\n",
    "    dest_ = np.load(path_to_save_warped / 'mono' / f'{idx}.npz')['image'].astype(float)\n",
    "    plt.subplots(1, n_subplot, figsize=(n_subplot*5, 5))\n",
    "    plt.subplot(1, n_subplot, 1)\n",
    "    plt.imshow(orig_)\n",
    "    plt.title(f'Orig {np.ptp(orig_)=}')\n",
    "    plt.subplot(1, n_subplot, 2)\n",
    "    plt.imshow(src_, vmin=src_[mask].min(), vmax=src_[mask].max())\n",
    "    plt.title(f'Warped src {np.ptp(src_[mask])=}')\n",
    "    plt.subplot(1, n_subplot, 3)\n",
    "    plt.imshow(dest_)\n",
    "    plt.title(f'dest {np.ptp(dest_)=}')\n",
    "    # plt.subplot(1, 3, 3)\n",
    "    # diff = np.abs(src_ - dest_)\n",
    "    # plt.imshow(diff, vmin=diff[mask_].min(), vmax=diff[mask_].max())\n",
    "    # plt.title(f'diff {np.ptp(diff[mask_])=}')\n",
    "\n",
    "    plt.subplot(1, n_subplot, 4)\n",
    "    # normalize the src and dest and than diff\n",
    "    src__ = (src_ - src_[mask].min()) / (src_[mask].max() - src_[mask].min())\n",
    "    dest__ = (dest_ - dest_.min()) / (dest_.max() - dest_.min())\n",
    "    diff = np.abs(src__ - dest__)\n",
    "    plt.imshow(diff, vmin=diff[mask_].min(), vmax=diff[mask_].max())\n",
    "    plt.title(f'Normalized diff {np.ptp(diff[mask_])=:.2g}')\n",
    "    \n",
    "    plt.subplot(1, n_subplot, 5)\n",
    "    # normalize the src and dest and than diff\n",
    "    orig__ = (orig_ - orig_[mask].min()) / (orig_[mask].max() - orig_[mask].min())\n",
    "    dest__ = (dest_ - dest_.min()) / (dest_.max() - dest_.min())\n",
    "    diff = np.abs(orig__ - dest__)\n",
    "    plt.imshow(diff, vmin=diff[mask_].min(), vmax=diff[mask_].max())\n",
    "    plt.title(f'Norm diff orig-dest {np.ptp(diff[mask_])=:.2g}')\n",
    "    \n",
    "    \n",
    "    plt.show()\n",
    "    plt.close()"
   ]
  },
  {
   "cell_type": "code",
   "execution_count": null,
   "metadata": {},
   "outputs": [],
   "source": []
  }
 ],
 "metadata": {
  "kernelspec": {
   "display_name": "venv",
   "language": "python",
   "name": "python3"
  },
  "language_info": {
   "codemirror_mode": {
    "name": "ipython",
    "version": 3
   },
   "file_extension": ".py",
   "mimetype": "text/x-python",
   "name": "python",
   "nbconvert_exporter": "python",
   "pygments_lexer": "ipython3",
   "version": "3.10.6"
  },
  "orig_nbformat": 4
 },
 "nbformat": 4,
 "nbformat_minor": 2
}
