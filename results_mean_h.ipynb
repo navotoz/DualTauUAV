{
 "cells": [
  {
   "cell_type": "code",
   "execution_count": null,
   "metadata": {},
   "outputs": [],
   "source": [
    "from pathlib import Path\n",
    "import numpy as np\n",
    "import matplotlib.pyplot as plt\n",
    "import cv2\n",
    "from mpl_toolkits.axes_grid1.axes_divider import make_axes_locatable\n",
    "import torch\n",
    "from tqdm import tqdm\n",
    "from kornia.geometry import warp_perspective\n",
    "\n",
    "\n",
    "path_to_files = Path('rawData/calib')\n",
    "dynamic, static = {}, {}\n",
    "for i, path in enumerate(path_to_files.glob('left_*.npy')):\n",
    "    idx = int(path.stem.split('left_')[-1])\n",
    "    if not (path.parent / f\"right_{idx}.npy\").exists():\n",
    "        print(f\"Skipping {idx}\")\n",
    "        continue\n",
    "    dynamic[idx] = np.load(path_to_files / f'left_{idx}.npy')\n",
    "    static[idx] = np.load(path_to_files / f'right_{idx}.npy')\n",
    "dynamic = np.array([dynamic[i] for i in sorted(dynamic.keys())])\n",
    "static = np.array([static[i] for i in sorted(static.keys())])\n",
    "dynamic, static = np.array(dynamic), np.array(static)\n",
    "\n",
    "print(f\"Loaded {len(dynamic)} frames\")"
   ]
  },
  {
   "attachments": {},
   "cell_type": "markdown",
   "metadata": {},
   "source": [
    "# Build and save the mean homography matrix"
   ]
  },
  {
   "cell_type": "code",
   "execution_count": null,
   "metadata": {},
   "outputs": [],
   "source": [
    "h = np.eye(3, dtype=float)\n",
    "\n",
    "h[2, 2] = 1\n",
    "h[2, 1] = -1e-6\n",
    "h[2, 0] = 1e-6\n",
    "\n",
    "h[1, 2] = -0.78\n",
    "h[1, 1] = 0.999\n",
    "h[1, 0] = -0.015\n",
    "\n",
    "h[0, 2] = -5.2\n",
    "h[0, 1] = 0.017\n",
    "h[0, 0] = 0.9998\n",
    "\n",
    "h"
   ]
  },
  {
   "attachments": {},
   "cell_type": "markdown",
   "metadata": {},
   "source": [
    "# Examples of results with the mean homography"
   ]
  },
  {
   "cell_type": "code",
   "execution_count": null,
   "metadata": {},
   "outputs": [],
   "source": [
    "for idx, (dyn, stat) in enumerate(zip(dynamic, static)):\n",
    "    warped = cv2.warpPerspective(dyn, h, list(reversed(dyn.shape[-2:])))\n",
    "    mask = cv2.warpPerspective(\n",
    "        np.ones_like(dyn),\n",
    "        h, list(reversed(stat.shape[-2:])),\n",
    "        flags=cv2.INTER_NEAREST, borderMode=cv2.BORDER_CONSTANT, borderValue=0).astype(bool)\n",
    "\n",
    "    # Erode mask\n",
    "    kernel = np.ones((3, 3), np.uint8)\n",
    "    mask = cv2.erode(mask.astype(np.uint8), kernel, iterations=1).astype(bool)\n",
    "\n",
    "    vmin = warped[mask].min()\n",
    "    vmax = warped[mask].max()\n",
    "\n",
    "    # Plot the dynamic, static and warped images\n",
    "    plt.figure(figsize=(20, 5))\n",
    "    plt.subplot(1, 4, 1)\n",
    "    plt.imshow(dyn)\n",
    "    plt.title('Dynamic')\n",
    "    plt.subplot(1, 4, 2)\n",
    "    plt.imshow(stat)\n",
    "    plt.title('Static')\n",
    "    plt.subplot(1, 4, 3)\n",
    "    plt.imshow(warped, vmin=vmin, vmax=vmax)\n",
    "    plt.title('Warped')\n",
    "    ax = plt.subplot(1, 4, 4)\n",
    "    diff = np.abs(warped.astype(float) - stat.astype(float))\n",
    "    diff[~mask] = np.nan\n",
    "\n",
    "    divider = make_axes_locatable(ax)\n",
    "    cax = divider.append_axes(\"right\", size=\"5%\", pad=0.05)\n",
    "    plt.colorbar(ax.imshow(diff, cmap='bwr'), cax=cax)\n",
    "    ax.set_title(f'Diff, avg err: {diff[mask].mean():.2g}GL')\n",
    "\n",
    "    plt.title('Difference')\n",
    "    plt.show()\n",
    "    plt.close()\n",
    "\n",
    "    # if idx > 20:\n",
    "    #     break"
   ]
  },
  {
   "attachments": {},
   "cell_type": "markdown",
   "metadata": {},
   "source": [
    "# Optimize the homography matrix with SGD"
   ]
  },
  {
   "cell_type": "code",
   "execution_count": null,
   "metadata": {},
   "outputs": [],
   "source": [
    "DEVICE = 'cuda' if torch.cuda.is_available() else 'cpu'\n",
    "DTYPE = torch.float32\n",
    "\n",
    "dyn = torch.from_numpy(dynamic[:, None].astype(float)).to(DEVICE, DTYPE)\n",
    "stat = torch.from_numpy(static[:, None].astype(float)).to(DEVICE, DTYPE)\n",
    "h_tensor = torch.from_numpy(h)[None,  ...].to(DEVICE, DTYPE)\n",
    "h_tensor.requires_grad_(True)\n",
    "h_orig = h_tensor.clone()\n",
    "\n",
    "optim = torch.optim.AdamW([h_tensor], lr=1e-6)\n",
    "loss_fn = torch.nn.L1Loss()\n",
    "\n",
    "N_EPOCHS = 4000\n",
    "with tqdm(total=N_EPOCHS) as pbar:\n",
    "    for i in range(N_EPOCHS):\n",
    "        warped = warp_perspective(dyn, h_tensor, dsize=stat.shape[-2:], mode='bicubic', align_corners=True)\n",
    "        loss = loss_fn(warped, stat)\n",
    "        pbar.set_postfix_str(f'Loss: {loss.item():.2g}')\n",
    "        optim.zero_grad()\n",
    "        loss.backward()\n",
    "        optim.step()\n",
    "        pbar.update()\n",
    "\n",
    "print(f\"Original homography:\\n{h_orig.detach().cpu().numpy()[0]}\", flush=True)\n",
    "print(f\"Optimized homography:\\n{h_tensor.detach().cpu().numpy()[0]}\", flush=True)"
   ]
  },
  {
   "cell_type": "code",
   "execution_count": null,
   "metadata": {},
   "outputs": [],
   "source": [
    "print(f\"Original homography:\\n{h_orig.detach().cpu().numpy()[0]}\", flush=True)\n",
    "print(f\"Optimized homography:\\n{h_tensor.detach().cpu().numpy()[0]}\", flush=True)"
   ]
  },
  {
   "cell_type": "code",
   "execution_count": null,
   "metadata": {},
   "outputs": [],
   "source": [
    "h_new = h_tensor.detach().cpu().numpy()[0]\n",
    "for idx, path in enumerate(path_to_files.glob('M_*.npy')):\n",
    "    idx_of_frame = int(path.stem.split('_')[-1])\n",
    "    warped = cv2.warpPerspective(dynamic[idx], h, list(reversed(static.shape[-2:])))\n",
    "    mask = warped != 0\n",
    "\n",
    "    # Erode mask\n",
    "    kernel = np.ones((3, 3), np.uint8)\n",
    "    mask = cv2.erode(mask.astype(np.uint8), kernel, iterations=1).astype(bool)\n",
    "\n",
    "    vmin = warped[mask].min()\n",
    "    vmax = warped[mask].max()\n",
    "\n",
    "    # Plot the dynamic, static and warped images\n",
    "    plt.figure(figsize=(20, 5))\n",
    "    plt.subplot(1, 4, 1)\n",
    "    plt.imshow(dynamic[idx])\n",
    "    plt.title('Dynamic')\n",
    "    plt.subplot(1, 4, 2)\n",
    "    plt.imshow(static[idx])\n",
    "    plt.title('Static')\n",
    "    plt.subplot(1, 4, 3)\n",
    "    plt.imshow(warped, vmin=vmin, vmax=vmax)\n",
    "    plt.title('Warped')\n",
    "    ax = plt.subplot(1, 4, 4)\n",
    "    diff = np.abs(warped.astype(float) - static[idx].astype(float))\n",
    "    diff[~mask] = np.nan\n",
    "\n",
    "    divider = make_axes_locatable(ax)\n",
    "    cax = divider.append_axes(\"right\", size=\"5%\", pad=0.05)\n",
    "    plt.colorbar(ax.imshow(diff, cmap='bwr'), cax=cax)\n",
    "    ax.set_title(f'Diff, avg err: {diff[mask].mean():.2g}GL')\n",
    "\n",
    "    plt.title('Difference')\n",
    "    plt.show()\n",
    "    plt.close()\n",
    "\n",
    "    if idx > 3:\n",
    "        break"
   ]
  },
  {
   "cell_type": "code",
   "execution_count": null,
   "metadata": {},
   "outputs": [],
   "source": []
  }
 ],
 "metadata": {
  "kernelspec": {
   "display_name": "venv",
   "language": "python",
   "name": "python3"
  },
  "language_info": {
   "codemirror_mode": {
    "name": "ipython",
    "version": 3
   },
   "file_extension": ".py",
   "mimetype": "text/x-python",
   "name": "python",
   "nbconvert_exporter": "python",
   "pygments_lexer": "ipython3",
   "version": "3.10.6"
  },
  "orig_nbformat": 4
 },
 "nbformat": 4,
 "nbformat_minor": 2
}
