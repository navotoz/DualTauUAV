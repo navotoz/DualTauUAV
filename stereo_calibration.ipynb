{
 "cells": [
  {
   "cell_type": "code",
   "execution_count": null,
   "metadata": {},
   "outputs": [],
   "source": [
    "from pathlib import Path\n",
    "import numpy as np\n",
    "import matplotlib.pyplot as plt\n",
    "from tqdm import tqdm\n",
    "import multiprocessing as mp\n",
    "from functools import partial\n",
    "import cv2\n",
    "from typing import List\n",
    "from utils.homography import HomographySIFT, HomographyResult\n",
    "import torch\n",
    "from utils.image_stitcher import make_gif_of_sequence\n",
    "\n",
    "\n",
    "\n",
    "def load_files_from_dir(path):\n",
    "    data = {}\n",
    "    list_files = list(path.glob('*.npz'))\n",
    "    for p in tqdm(list_files):\n",
    "        try:\n",
    "            d = np.load(p)\n",
    "        except:\n",
    "            continue\n",
    "        for k, v in d.items():\n",
    "            data.setdefault(k, []).extend( v)\n",
    "    if not data:\n",
    "        try:\n",
    "            data = np.load(path.with_suffix('.npz'))\n",
    "        except:\n",
    "            raise FileNotFoundError(f'No files found in {path}')\n",
    "    indices = np.argsort(data['time_ns'])\n",
    "    data = {k:np.stack(v)[indices] for k, v in data.items()}\n",
    "    return data\n",
    "\n",
    "\n",
    "path_to_files = Path('/home/navhomelinux/Downloads')\n",
    "\n",
    "left = load_files_from_dir(path_to_files / 'pan')\n",
    "right = load_files_from_dir(path_to_files / 'mono')\n",
    "list(right.keys())"
   ]
  },
  {
   "attachments": {},
   "cell_type": "markdown",
   "metadata": {},
   "source": [
    "Fix timing between stereo cameras"
   ]
  },
  {
   "cell_type": "code",
   "execution_count": null,
   "metadata": {},
   "outputs": [],
   "source": [
    "diff = np.abs(left['time_ns'][:, None] - right['time_ns'][None, :])\n",
    "diff = np.argmin(diff, axis=0)\n",
    "\n",
    "plt.figure()\n",
    "plt.plot(diff, label='before')\n",
    "\n",
    "left = {k: v.copy()[diff] for k, v in left.items()}\n",
    "diff = np.abs(left['time_ns'][:, None] - right['time_ns'][None, :])\n",
    "diff = np.argmin(diff, axis=0)\n",
    "plt.plot(diff, label='after')\n",
    "plt.legend()\n",
    "plt.grid()\n",
    "plt.show()\n",
    "\n",
    "# diff = np.min(diff, axis=0)\n",
    "# diff = diff / 1e9\n",
    "# # diff = [(pan['time_ns'][p] - q) / 1e9 for p, q in zip(diff, mono['time_ns'])]\n",
    "# plt.plot(diff[diff < 0.1])\n",
    "\n",
    "# # [p for p in (diff / 1e9)]\n",
    "# # \n",
    "# # for i in range(len(pan['time_ns'])):\n",
    "# #     dict_of_connections.setdefault(pan['time_ns'][i], []).append(mono['time_ns'][i])"
   ]
  },
  {
   "attachments": {},
   "cell_type": "markdown",
   "metadata": {},
   "source": []
  },
  {
   "cell_type": "code",
   "execution_count": null,
   "metadata": {},
   "outputs": [],
   "source": [
    "distance_between_centers_of_cameras = 0.1  # meters   ?????????????????????????????????????????\n",
    "distance_from_ground = 50 # meters\n",
    "focal_length = 9.8 * 1e-3 # meters\n",
    "size_of_pixel = 17 * 1e-6 # meters\n",
    "image_width = 336 # pixels\n",
    "image_height = 256 # pixels\n",
    "\n",
    "delta_distance_from_ground = 3 # meters"
   ]
  },
  {
   "cell_type": "code",
   "execution_count": null,
   "metadata": {},
   "outputs": [],
   "source": [
    "fov_width_rad = 2 * np.arctan(image_width * size_of_pixel / (2 * focal_length))\n",
    "fov_width_degree = fov_width_rad * 180 / np.pi\n",
    "fov_width_meters = 2 * distance_from_ground * np.tan(fov_width_rad / 2)\n",
    "fov_height_rad = 2 * np.arctan(image_height * size_of_pixel / (2 * focal_length))\n",
    "fov_height_degree = fov_height_rad * 180 / np.pi\n",
    "fov_height_meters = 2 * distance_from_ground * np.tan(fov_height_rad / 2)\n",
    "print(f\"FOV width: {fov_width_degree:.1f}deg, {fov_width_meters:.1f}m\")\n",
    "print(f\"FOV height: {fov_height_degree:.1f}deg, {fov_height_meters:.1f}m\")\n"
   ]
  },
  {
   "cell_type": "code",
   "execution_count": null,
   "metadata": {},
   "outputs": [],
   "source": [
    "fov_single_pixel_width_meters = 2 * distance_from_ground * size_of_pixel / focal_length\n",
    "fov_single_pixel_height_meters = 2 * distance_from_ground * size_of_pixel / focal_length\n",
    "print(f\"FOV single pixel width: {fov_single_pixel_width_meters:.2g}m\")\n",
    "print(f\"FOV single pixel height: {fov_single_pixel_height_meters:.2g}m\")\n",
    "\n",
    "min_fov_change = 2 * (distance_from_ground-delta_distance_from_ground) * size_of_pixel / focal_length\n",
    "max_fov_change = 2 * (distance_from_ground+delta_distance_from_ground) * size_of_pixel / focal_length\n",
    "print(f\"Min FOV change: {min_fov_change:.2g}m\")\n",
    "print(f\"Max FOV change: {max_fov_change:.2g}m\")"
   ]
  },
  {
   "cell_type": "code",
   "execution_count": null,
   "metadata": {},
   "outputs": [],
   "source": [
    "distance_between_cameras_in_pixels = distance_between_centers_of_cameras / fov_single_pixel_width_meters\n",
    "print(f\"Distance between cameras in pixels: {distance_between_cameras_in_pixels:.2g} pixels\")"
   ]
  },
  {
   "cell_type": "code",
   "execution_count": null,
   "metadata": {},
   "outputs": [],
   "source": [
    "# plot the first frame side-by-side\n",
    "fig, ax = plt.subplots(1, 2, figsize=(15, 5))\n",
    "ax[0].imshow(left['frames'][0])\n",
    "ax[1].imshow(right['frames'][0])\n",
    "ax[0].set_title('Left camera')\n",
    "ax[1].set_title('Right camera')\n",
    "plt.show()"
   ]
  },
  {
   "cell_type": "code",
   "execution_count": null,
   "metadata": {},
   "outputs": [],
   "source": [
    "# Use cv2 to find the homography between the frames\n",
    "\n",
    "def find_homography(left, right):\n",
    "    left = cv2.normalize(left, left, 0, 255, cv2.NORM_MINMAX).astype(np.uint8)\n",
    "    right = cv2.normalize(right, right, 0, 255, cv2.NORM_MINMAX).astype(np.uint8)\n",
    "    orb = cv2.ORB_create()\n",
    "    kp1, des1 = orb.detectAndCompute(left, None)\n",
    "    kp2, des2 = orb.detectAndCompute(right, None)\n",
    "    bf = cv2.BFMatcher(cv2.NORM_HAMMING, crossCheck=True)\n",
    "    matches = bf.match(des1, des2)\n",
    "    src_pts = np.float32([kp1[m.queryIdx].pt for m in matches]).reshape(-1, 1, 2)\n",
    "    dst_pts = np.float32([kp2[m.trainIdx].pt for m in matches]).reshape(-1, 1, 2)\n",
    "    M, mask = cv2.findHomography(src_pts, dst_pts, cv2.RANSAC, 5.0)\n",
    "    return M, mask\n",
    "find_homography(left['frames'][0], right['frames'][0])[0]"
   ]
  },
  {
   "cell_type": "code",
   "execution_count": null,
   "metadata": {},
   "outputs": [],
   "source": []
  },
  {
   "cell_type": "code",
   "execution_count": null,
   "metadata": {},
   "outputs": [],
   "source": [
    "def warp_image(img, M):\n",
    "    return cv2.warpPerspective(img, M, (img.shape[1], img.shape[0]))\n",
    "\n",
    "def _calc_loss(M, left, right):\n",
    "    loss = 0\n",
    "    for idx in range(len(left['frames'])):\n",
    "        estimated_right = warp_image(left['frames'][idx], M)\n",
    "        loss += np.mean(np.abs((estimated_right - right['frames'][idx])))\n",
    "    loss /= len(left['frames'])\n",
    "    return loss\n",
    "\n",
    "\n",
    "\n",
    "NW = 100\n",
    "NH = 100\n",
    "array_distances_w = np.linspace(0.9, 2, NW)\n",
    "array_distances_h = np.linspace(5.5, 7, NH)\n",
    "M_permutations = np.eye(3)[None, None]\n",
    "M_permutations = M_permutations.repeat(NH, axis=0).repeat(NW, axis=1)\n",
    "M_permutations[:, :, 0, 2] = array_distances_h[:, None]\n",
    "M_permutations[:, :, 1, 2] = array_distances_w[None, :]\n",
    "M_permutations = M_permutations.reshape(-1, 3, 3)\n",
    "\n",
    "func = partial(_calc_loss, left=left.copy(), right=right.copy())\n",
    "\n",
    "\n",
    "with mp.Pool(mp.cpu_count()) as pool:\n",
    "    ret_val = list(tqdm(pool.imap(func, M_permutations, \n",
    "                                  chunksize=2**6), \n",
    "                                #   chunksize=len(M_permutations) // mp.cpu_count()), \n",
    "                                  total=len(M_permutations)))\n",
    "\n",
    "print(min(ret_val))\n",
    "print(M_permutations[np.argmin(ret_val)])\n"
   ]
  },
  {
   "cell_type": "code",
   "execution_count": null,
   "metadata": {},
   "outputs": [],
   "source": [
    "plt.plot(ret_val)"
   ]
  },
  {
   "cell_type": "code",
   "execution_count": null,
   "metadata": {},
   "outputs": [],
   "source": [
    "DEVICE = 'cuda'\n",
    "\n",
    "with torch.inference_mode():\n",
    "    homography = HomographySIFT().to(DEVICE, dtype=torch.float32)\n",
    "    x = np.concatenate([left['frames'][None], right['frames'][None]], axis=0).transpose(1, 0, 2, 3)\n",
    "    x -= x.min()\n",
    "    x = x/ x.max()\n",
    "    x = torch.from_numpy(x)\n",
    "    ret_val: List[HomographyResult] = [homography(x=x_.to(DEVICE, dtype=torch.float32), m=None, mask=None, verbose=False).cpu() for x_ in tqdm(torch.split(x, 1, dim=0))]\n",
    "h = np.concatenate([p.homography for p in ret_val], 0)"
   ]
  },
  {
   "cell_type": "code",
   "execution_count": null,
   "metadata": {},
   "outputs": [],
   "source": [
    "# make_gif_of_sequence([p.warped[0, 1] for p in ret_val], 'homography.gif')"
   ]
  },
  {
   "cell_type": "code",
   "execution_count": null,
   "metadata": {},
   "outputs": [],
   "source": [
    "for i, j in np.ndindex(3, 3):\n",
    "    d = h[:, i, j]\n",
    "    std = np.std(d)\n",
    "    d = d[np.abs(d - np.mean(d)) < 1 * std]\n",
    "    plt.figure()\n",
    "    plt.scatter(range(len(d)), d, label='y', s=2)\n",
    "    plt.plot(np.mean(d) * np.ones_like(d), label='mean', c='r', linewidth=1)\n",
    "    # plt.plot(np.mean(d) * np.ones_like(d)-1,  '--', c='black', linewidth=1)\n",
    "    # plt.plot(np.mean(d) * np.ones_like(d])+1,  '--', c='black', linewidth=1)\n",
    "    # plt.yticks(np.arange(np.floor(d.min()), np.ceil(d.max()), 1))\n",
    "    plt.title(f'Homography {i}, {j}')\n",
    "    plt.grid()\n",
    "    plt.show()\n",
    "    plt.close()"
   ]
  },
  {
   "cell_type": "code",
   "execution_count": null,
   "metadata": {},
   "outputs": [],
   "source": []
  },
  {
   "cell_type": "code",
   "execution_count": null,
   "metadata": {},
   "outputs": [],
   "source": [
    "def warp_image(img, M):\n",
    "    return cv2.warpPerspective(img, M, (img.shape[1], img.shape[0]))\n",
    "\n",
    "\n",
    "def make_mask(img, M):\n",
    "    mask = np.ones_like(img)\n",
    "    mask = cv2.warpPerspective(mask, M, (img.shape[1], img.shape[0]))\n",
    "    mask[mask > 0.5] = 1\n",
    "    return mask\n",
    "\n",
    "\n",
    "M = np.array([[ 1.00253339e+00,  1.38941996e-02, -4.26872392e+00],\n",
    "       [-1.38602545e-02,  9.98299525e-01, -4.89828861e-01],\n",
    "       [ 1.72839530e-05, -1.02908181e-05,  1.00000000e+00]], dtype=float)\n",
    "ret = right['frames'][0].astype(float) - warp_image(left['frames'][0], M).astype(float)\n",
    "ret[make_mask(left['frames'][0], M) == 0] = np.nan\n",
    "plt.matshow(ret)\n",
    "plt.colorbar()"
   ]
  },
  {
   "cell_type": "code",
   "execution_count": null,
   "metadata": {},
   "outputs": [],
   "source": []
  }
 ],
 "metadata": {
  "kernelspec": {
   "display_name": "venv",
   "language": "python",
   "name": "python3"
  },
  "language_info": {
   "codemirror_mode": {
    "name": "ipython",
    "version": 3
   },
   "file_extension": ".py",
   "mimetype": "text/x-python",
   "name": "python",
   "nbconvert_exporter": "python",
   "pygments_lexer": "ipython3",
   "version": "3.10.6"
  },
  "orig_nbformat": 4
 },
 "nbformat": 4,
 "nbformat_minor": 2
}
