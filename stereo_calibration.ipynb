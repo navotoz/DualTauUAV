{
 "cells": [
  {
   "cell_type": "code",
   "execution_count": null,
   "metadata": {},
   "outputs": [],
   "source": [
    "from pathlib import Path\n",
    "import numpy as np\n",
    "import matplotlib.pyplot as plt\n",
    "from tqdm import tqdm\n",
    "import multiprocessing as mp\n",
    "from functools import partial\n",
    "import cv2\n",
    "\n",
    "\n",
    "def load_files_from_dir(path):\n",
    "    data = {}\n",
    "    list_files = list(path.glob('*.npz'))\n",
    "    for p in tqdm(list_files):\n",
    "        try:\n",
    "            d = np.load(p)\n",
    "        except:\n",
    "            continue\n",
    "        for k, v in d.items():\n",
    "            data.setdefault(k, []).extend( v)\n",
    "    if not data:\n",
    "        try:\n",
    "            data = np.load(path.with_suffix('.npz'))\n",
    "        except:\n",
    "            raise FileNotFoundError(f'No files found in {path}')\n",
    "    indices = np.argsort(data['time_ns'])\n",
    "    data = {k:np.stack(v)[indices] for k, v in data.items()}\n",
    "    return data\n",
    "\n",
    "\n",
    "path_to_files = Path('/mnt/e/Downloads/meas/calibration')\n",
    "\n",
    "left = load_files_from_dir(path_to_files / 'pan')\n",
    "right = load_files_from_dir(path_to_files / 'mono')\n",
    "list(right.keys())"
   ]
  },
  {
   "attachments": {},
   "cell_type": "markdown",
   "metadata": {},
   "source": []
  },
  {
   "cell_type": "code",
   "execution_count": null,
   "metadata": {},
   "outputs": [],
   "source": [
    "distance_between_centers_of_cameras = 0.1  # meters   ?????????????????????????????????????????\n",
    "distance_from_ground = 50 # meters\n",
    "focal_length = 9.8 * 1e-3 # meters\n",
    "size_of_pixel = 17 * 1e-6 # meters\n",
    "image_width = 336 # pixels\n",
    "image_height = 256 # pixels\n",
    "\n",
    "delta_distance_from_ground = 3 # meters"
   ]
  },
  {
   "cell_type": "code",
   "execution_count": null,
   "metadata": {},
   "outputs": [],
   "source": [
    "fov_width_rad = 2 * np.arctan(image_width * size_of_pixel / (2 * focal_length))\n",
    "fov_width_degree = fov_width_rad * 180 / np.pi\n",
    "fov_width_meters = 2 * distance_from_ground * np.tan(fov_width_rad / 2)\n",
    "fov_height_rad = 2 * np.arctan(image_height * size_of_pixel / (2 * focal_length))\n",
    "fov_height_degree = fov_height_rad * 180 / np.pi\n",
    "fov_height_meters = 2 * distance_from_ground * np.tan(fov_height_rad / 2)\n",
    "print(f\"FOV width: {fov_width_degree:.1f}deg, {fov_width_meters:.1f}m\")\n",
    "print(f\"FOV height: {fov_height_degree:.1f}deg, {fov_height_meters:.1f}m\")\n"
   ]
  },
  {
   "cell_type": "code",
   "execution_count": null,
   "metadata": {},
   "outputs": [],
   "source": [
    "fov_single_pixel_width_meters = 2 * distance_from_ground * size_of_pixel / focal_length\n",
    "fov_single_pixel_height_meters = 2 * distance_from_ground * size_of_pixel / focal_length\n",
    "print(f\"FOV single pixel width: {fov_single_pixel_width_meters:.2g}m\")\n",
    "print(f\"FOV single pixel height: {fov_single_pixel_height_meters:.2g}m\")\n",
    "\n",
    "min_fov_change = 2 * (distance_from_ground-delta_distance_from_ground) * size_of_pixel / focal_length\n",
    "max_fov_change = 2 * (distance_from_ground+delta_distance_from_ground) * size_of_pixel / focal_length\n",
    "print(f\"Min FOV change: {min_fov_change:.2g}m\")\n",
    "print(f\"Max FOV change: {max_fov_change:.2g}m\")"
   ]
  },
  {
   "cell_type": "code",
   "execution_count": null,
   "metadata": {},
   "outputs": [],
   "source": [
    "distance_between_cameras_in_pixels = distance_between_centers_of_cameras / fov_single_pixel_width_meters\n",
    "print(f\"Distance between cameras in pixels: {distance_between_cameras_in_pixels:.2g} pixels\")"
   ]
  },
  {
   "cell_type": "code",
   "execution_count": null,
   "metadata": {},
   "outputs": [],
   "source": [
    "# plot the first frame side-by-side\n",
    "fig, ax = plt.subplots(1, 2, figsize=(15, 5))\n",
    "ax[0].imshow(left['frames'][0])\n",
    "ax[1].imshow(right['frames'][0])\n",
    "ax[0].set_title('Left camera')\n",
    "ax[1].set_title('Right camera')\n",
    "plt.show()"
   ]
  },
  {
   "cell_type": "code",
   "execution_count": null,
   "metadata": {},
   "outputs": [],
   "source": [
    "# Use cv2 to find the homography between the frames\n",
    "\n",
    "def find_homography(left, right):\n",
    "    left = cv2.normalize(left, left, 0, 255, cv2.NORM_MINMAX).astype(np.uint8)\n",
    "    right = cv2.normalize(right, right, 0, 255, cv2.NORM_MINMAX).astype(np.uint8)\n",
    "    orb = cv2.ORB_create()\n",
    "    kp1, des1 = orb.detectAndCompute(left, None)\n",
    "    kp2, des2 = orb.detectAndCompute(right, None)\n",
    "    bf = cv2.BFMatcher(cv2.NORM_HAMMING, crossCheck=True)\n",
    "    matches = bf.match(des1, des2)\n",
    "    src_pts = np.float32([kp1[m.queryIdx].pt for m in matches]).reshape(-1, 1, 2)\n",
    "    dst_pts = np.float32([kp2[m.trainIdx].pt for m in matches]).reshape(-1, 1, 2)\n",
    "    M, mask = cv2.findHomography(src_pts, dst_pts, cv2.RANSAC, 5.0)\n",
    "    return M, mask\n",
    "# find_homography(left['frames'][0], right['frames'][0])[0]"
   ]
  },
  {
   "cell_type": "code",
   "execution_count": null,
   "metadata": {},
   "outputs": [],
   "source": [
    "# def warp_image(img, M):\n",
    "#     return cv2.warpPerspective(img, M, (img.shape[1], img.shape[0]))\n",
    "\n",
    "\n",
    "# N = 10\n",
    "# array_distances = np.linspace(-5, 5, N)\n",
    "# M_permutations = np.eye(3)[None, None]\n",
    "# M_permutations = M_permutations.repeat(N, axis=0).repeat(N, axis=1)\n",
    "# M_permutations[:, :, 0, 2] = array_distances[:, None]\n",
    "# M_permutations[:, :, 1, 2] = array_distances[None, :]\n",
    "\n",
    "# with tqdm(total=len(left['frames']) * N**2) as pbar:\n",
    "#     best_loss, best_M = float('inf'), None\n",
    "#     for i,j in np.ndindex(N, N):\n",
    "#         loss = 0\n",
    "#         M = M_permutations[i, j]\n",
    "#         for idx, frame in enumerate(left['frames']):\n",
    "#             estimated_right = warp_image(left['frames'][0], M)\n",
    "#             loss += np.mean(np.abs((estimated_right - right['frames'][idx])))\n",
    "#             pbar.update(1)\n",
    "#         loss /= len(left['frames'])\n",
    "#         if loss < best_loss:\n",
    "#             best_loss = loss\n",
    "#             best_M = M\n",
    "#         pbar.set_postfix_str(f'loss: {loss:.2f}, best_loss: {best_loss:.2f}')\n",
    "#         pbar.set_description_str(f\"i: {i}, j: {j}\")\n"
   ]
  },
  {
   "cell_type": "code",
   "execution_count": null,
   "metadata": {},
   "outputs": [],
   "source": [
    "from ctypes import c_float\n",
    "best_loss = mp.Value(typecode_or_type=c_float)\n",
    "best_loss.value = float('inf')\n",
    "\n",
    "def warp_image(img, M):\n",
    "    return cv2.warpPerspective(img, M, (img.shape[1], img.shape[0]))\n",
    "\n",
    "def _calc_loss(M, left, right):\n",
    "    loss = 0\n",
    "    for idx in range(len(left['frames'])):\n",
    "        estimated_right = warp_image(left['frames'][idx], M)\n",
    "        loss += np.mean(np.abs((estimated_right - right['frames'][idx])))\n",
    "    loss /= len(left['frames'])\n",
    "    best_loss.value = min(loss, best_loss.value)\n",
    "    print(f\"loss: {loss:.2f}, best_loss: {best_loss.value:.2f}\")\n",
    "    return loss\n",
    "\n",
    "\n",
    "N = 100\n",
    "N_PIXELS = 2\n",
    "array_distances = np.linspace(-N_PIXELS, N_PIXELS, N)\n",
    "M_permutations = np.eye(3)[None, None]\n",
    "M_permutations = M_permutations.repeat(N, axis=0).repeat(N, axis=1)\n",
    "M_permutations[:, :, 0, 2] = array_distances[:, None]\n",
    "M_permutations[:, :, 1, 2] = array_distances[None, :]\n",
    "M_permutations = M_permutations.reshape(-1, 3, 3)\n",
    "\n",
    "func = partial(_calc_loss, left=left.copy(), right=right.copy())\n",
    "\n",
    "\n",
    "with mp.Pool(mp.cpu_count()) as pool:\n",
    "    ret_val = list(tqdm(pool.imap(func, M_permutations, chunksize=2**4), total=len(M_permutations)))\n",
    "\n",
    "print(ret_val.min())\n",
    "print(M_permutations[np.argmin(ret_val)])\n"
   ]
  },
  {
   "cell_type": "code",
   "execution_count": null,
   "metadata": {},
   "outputs": [],
   "source": []
  }
 ],
 "metadata": {
  "kernelspec": {
   "display_name": "venv",
   "language": "python",
   "name": "python3"
  },
  "language_info": {
   "codemirror_mode": {
    "name": "ipython",
    "version": 3
   },
   "file_extension": ".py",
   "mimetype": "text/x-python",
   "name": "python",
   "nbconvert_exporter": "python",
   "pygments_lexer": "ipython3",
   "version": "3.10.6"
  },
  "orig_nbformat": 4
 },
 "nbformat": 4,
 "nbformat_minor": 2
}
