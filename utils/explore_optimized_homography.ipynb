{
 "cells": [
  {
   "cell_type": "code",
   "execution_count": null,
   "metadata": {},
   "outputs": [],
   "source": [
    "from pathlib import Path\n",
    "import numpy as np\n",
    "import matplotlib.pyplot as plt\n",
    "\n",
    "path_to_files = Path('rawData')\n",
    "h = np.zeros((len(list(path_to_files.glob('M_*.npy'))), 3, 3))\n",
    "for i, path in enumerate(path_to_files.glob('M_*.npy')):\n",
    "    h[i] = np.load(path)\n",
    "\n",
    "print(f\"Loaded {len(h)} homographies\")"
   ]
  },
  {
   "cell_type": "code",
   "execution_count": null,
   "metadata": {},
   "outputs": [],
   "source": [
    "for i, j in np.ndindex(3, 3):\n",
    "    d = h[:, i, j]\n",
    "    std = np.std(d)\n",
    "    d = d[np.abs(d - np.mean(d)) < 1 * std]\n",
    "    plt.figure()\n",
    "    plt.scatter(range(len(d)), d, label='y', s=2)\n",
    "    plt.plot(np.mean(d) * np.ones_like(d), label='mean', c='r', linewidth=1)\n",
    "    # plt.plot(np.mean(d) * np.ones_like(d)-1,  '--', c='black', linewidth=1)\n",
    "    # plt.plot(np.mean(d) * np.ones_like(d])+1,  '--', c='black', linewidth=1)\n",
    "    # plt.yticks(np.arange(np.floor(d.min()), np.ceil(d.max()), 1))\n",
    "    plt.title(f'Homography {i}, {j}')\n",
    "    plt.grid()\n",
    "    plt.show()\n",
    "    plt.close()"
   ]
  },
  {
   "cell_type": "code",
   "execution_count": null,
   "metadata": {},
   "outputs": [],
   "source": []
  }
 ],
 "metadata": {
  "kernelspec": {
   "display_name": "venv",
   "language": "python",
   "name": "python3"
  },
  "language_info": {
   "codemirror_mode": {
    "name": "ipython",
    "version": 3
   },
   "file_extension": ".py",
   "mimetype": "text/x-python",
   "name": "python",
   "nbconvert_exporter": "python",
   "pygments_lexer": "ipython3",
   "version": "3.10.11"
  },
  "orig_nbformat": 4
 },
 "nbformat": 4,
 "nbformat_minor": 2
}
